{
 "cells": [
  {
   "cell_type": "markdown",
   "metadata": {},
   "source": [
    "## Simple PID test"
   ]
  },
  {
   "cell_type": "markdown",
   "metadata": {},
   "source": [
    "The drone will hover to 0.5 m and then come back down"
   ]
  },
  {
   "cell_type": "code",
   "execution_count": null,
   "metadata": {},
   "outputs": [],
   "source": [
    "group_number = 14"
   ]
  },
  {
   "cell_type": "code",
   "execution_count": null,
   "metadata": {},
   "outputs": [
    {
     "name": "stdout",
     "output_type": "stream",
     "text": [
      "Initializing as PID\n",
      "Taking off!\n",
      "Done!\n"
     ]
    }
   ],
   "source": [
    "import logging\n",
    "import random\n",
    "import time\n",
    "import numpy as np\n",
    "\n",
    "import cflib.crtp\n",
    "from cflib.crazyflie import Crazyflie\n",
    "from cflib.crazyflie.syncCrazyflie import SyncCrazyflie\n",
    "from cflib.crazyflie.log import LogConfig\n",
    "from cflib.crazyflie.syncLogger import SyncLogger\n",
    "\n",
    "URI = f'radio://0/{group_number}/2M'\n",
    "\n",
    "# Only output errors from the logging framework\n",
    "logging.basicConfig(level=logging.ERROR)\n",
    "\n",
    "log_keys = ['e_x',\n",
    "            'e_y',\n",
    "            'e_roll',\n",
    "            'e_pitch',\n",
    "            'u2_pwm',\n",
    "            'u3_pwm',]\n",
    "\n",
    "other_log_keys = []\n",
    "\n",
    "if __name__ == '__main__':\n",
    "    cflib.crtp.init_drivers(enable_debug_driver=False)\n",
    "\n",
    "    with SyncCrazyflie(URI, cf=Crazyflie(rw_cache='./cache')) as scf:\n",
    "        cf = scf.cf\n",
    "\n",
    "        \n",
    "        print('Initializing as PID')\n",
    "        cf.param.set_value('stabilizer.controller', '1')\n",
    "\n",
    "    \n",
    "        print('Taking off!')\n",
    "\n",
    "        for y in range(10):\n",
    "            cf.commander.send_hover_setpoint(0, 0, 0, y / 25)\n",
    "            #cf.commander.send_stop_setpoint()\n",
    "            time.sleep(0.1)\n",
    "\n",
    "        for _ in range(50):\n",
    "            cf.commander.send_hover_setpoint(0, 0, 0, 0.5)\n",
    "            #cf.commander.send_stop_setpoint()\n",
    "            time.sleep(0.1)\n",
    "\n",
    "        for y in range(10):\n",
    "            cf.commander.send_hover_setpoint(0, 0, 0, (10 - y) / 25)\n",
    "            time.sleep(0.1)\n",
    "\n",
    "        for i in range(10):\n",
    "            cf.commander.send_stop_setpoint()\n",
    "            time.sleep(0.1)\n",
    "\n",
    "print('Done!') "
   ]
  }
 ],
 "metadata": {
  "kernelspec": {
   "display_name": "mae345-dev",
   "language": "python",
   "name": "python3"
  },
  "language_info": {
   "codemirror_mode": {
    "name": "ipython",
    "version": 3
   },
   "file_extension": ".py",
   "mimetype": "text/x-python",
   "name": "python",
   "nbconvert_exporter": "python",
   "pygments_lexer": "ipython3",
   "version": "3.7.16"
  }
 },
 "nbformat": 4,
 "nbformat_minor": 2
}
